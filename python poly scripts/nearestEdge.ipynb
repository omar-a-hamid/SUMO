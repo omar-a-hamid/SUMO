{
 "cells": [
  {
   "cell_type": "code",
   "execution_count": 2,
   "id": "c90d7603-8c8a-4348-aea1-e06c14c4e31f",
   "metadata": {},
   "outputs": [],
   "source": [
    "import pandas as pd\n",
    "import numpy as np\n",
    "import math\n",
    "\n",
    "dfgen = pd.read_csv('gen.csv')   #buildings csv file\n",
    "dfed = pd.read_csv('edges.csv')  #edges csv file\n"
   ]
  },
  {
   "cell_type": "code",
   "execution_count": 2,
   "id": "8e06e7e6-5433-46c0-9350-cfd9302e222a",
   "metadata": {},
   "outputs": [
    {
     "name": "stdout",
     "output_type": "stream",
     "text": [
      "0\n",
      "1\n"
     ]
    }
   ],
   "source": [
    "temp1 =[]\n",
    "temp2 = []\n",
    "datag = []\n",
    "dtg = []\n",
    "cnt = 0\n",
    "for i in dfgen['shape']:\n",
    "    temp1.append(i.split(\" \"))\n",
    "    for j in temp1:\n",
    "        for k in j:\n",
    "            temp2.append(k.split(\",\"))\n",
    "            for d in temp2:\n",
    "                datag.append([float(d[0]),float(d[1])])\n",
    "    dtg.append(np.mean(datag, axis=0))"
   ]
  },
  {
   "cell_type": "code",
   "execution_count": 25,
   "id": "2a62019d-453d-425a-af3b-95ba7c82acee",
   "metadata": {
    "tags": []
   },
   "outputs": [],
   "source": [
    "temp1 =[]\n",
    "temp2 = []\n",
    "datad = []\n",
    "dted = []\n",
    "cnt = 0\n",
    "for i in dfed['shape']:\n",
    "    temp1.append(i.split(\" \"))\n",
    "    temp2=[]\n",
    "    for j in temp1:\n",
    "        for k in j:\n",
    "            temp2.append(k.split(\",\"))\n",
    "\n",
    "    datad.append(temp2)\n"
   ]
  },
  {
   "cell_type": "code",
   "execution_count": 43,
   "id": "4ce0367c-16e4-40a9-8964-d1f2f3a3fb90",
   "metadata": {},
   "outputs": [],
   "source": [
    "edge = []\n",
    "for ed in datad:\n",
    "    edge.append([float(ed[len(ed)//2][0]) , float(ed[len(ed)//2][1])])"
   ]
  },
  {
   "cell_type": "code",
   "execution_count": 50,
   "id": "625e0263-3e95-4ead-b6de-3c5584ae9fca",
   "metadata": {},
   "outputs": [],
   "source": [
    "dnn = []\n",
    "for p in dtg:    \n",
    "    mind =  (math.dist(p, edge[0]))\n",
    "    id_ = 0\n",
    "    for j ,q in enumerate(edge):\n",
    "        if (mind > (math.dist(p, q))):\n",
    "            mind = (math.dist(p, q))\n",
    "    dnn.append(j)\n",
    "    "
   ]
  },
  {
   "cell_type": "code",
   "execution_count": 53,
   "id": "e10c4913-0c87-489f-9bce-1030393686a7",
   "metadata": {},
   "outputs": [],
   "source": [
    "id_ = []\n",
    "for i in dnn:\n",
    "    id_.append(dfed['id'][i])"
   ]
  },
  {
   "cell_type": "code",
   "execution_count": 45,
   "id": "2be79ee9-0b6b-4423-bfb4-41fc8fad6dee",
   "metadata": {},
   "outputs": [],
   "source": [
    "dfgen['shape'] = dtg\n",
    "dfed['shape'] = edge"
   ]
  },
  {
   "cell_type": "code",
   "execution_count": 55,
   "id": "e88f0584-1dc4-4d22-a170-1e7802287065",
   "metadata": {},
   "outputs": [],
   "source": [
    "dfgen['nearest_edge'] = id_"
   ]
  },
  {
   "cell_type": "code",
   "execution_count": 57,
   "id": "a64f819e-1c9a-4aa7-a61c-5d1d1f07c039",
   "metadata": {},
   "outputs": [],
   "source": [
    "dfgen.to_csv (r'gen.csv', index = False, header=True)\n",
    "dfed.to_csv (r'edges.csv', index = False, header=True)"
   ]
  },
  {
   "cell_type": "code",
   "execution_count": null,
   "id": "dc980dc7-aef1-490a-aa00-87c3e130f78f",
   "metadata": {},
   "outputs": [],
   "source": []
  }
 ],
 "metadata": {
  "kernelspec": {
   "display_name": "Python 3 (ipykernel)",
   "language": "python",
   "name": "python3"
  },
  "language_info": {
   "codemirror_mode": {
    "name": "ipython",
    "version": 3
   },
   "file_extension": ".py",
   "mimetype": "text/x-python",
   "name": "python",
   "nbconvert_exporter": "python",
   "pygments_lexer": "ipython3",
   "version": "3.9.12"
  }
 },
 "nbformat": 4,
 "nbformat_minor": 5
}
